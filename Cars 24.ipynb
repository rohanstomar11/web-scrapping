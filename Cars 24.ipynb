{
 "cells": [
  {
   "cell_type": "markdown",
   "id": "2e01a0d6",
   "metadata": {},
   "source": [
    "# Cars24.com"
   ]
  },
  {
   "cell_type": "code",
   "execution_count": 1,
   "id": "1cd10980",
   "metadata": {},
   "outputs": [],
   "source": [
    "#Import required modules\n",
    "from bs4 import BeautifulSoup\n",
    "import pandas as pd\n",
    "import time\n",
    "import warnings\n",
    "from selenium import webdriver\n",
    "import seaborn as sns\n",
    "import matplotlib.pyplot as plt\n",
    "%matplotlib inline\n",
    "warnings.filterwarnings('ignore')"
   ]
  },
  {
   "cell_type": "code",
   "execution_count": 2,
   "id": "55cb2e0c",
   "metadata": {},
   "outputs": [],
   "source": [
    "def clean_cars(cars):\n",
    "    year, company, name=[],[],[]\n",
    "    for car in cars:\n",
    "        year.append(car[:4])\n",
    "        company.append(car.split()[1])\n",
    "        name.append(car[5:])\n",
    "    return year, company, name\n",
    "\n",
    "def clean_name(names):\n",
    "    name=[]\n",
    "    for n in names:\n",
    "        comp = n.split()[0] + \" \"\n",
    "        name.append(n.replace(comp,\"\"))\n",
    "    return name\n",
    "\n",
    "def clean_models(names):\n",
    "    models, types=[],[]\n",
    "    for name in names:\n",
    "        types.append(name.split()[-1])\n",
    "        models.append((name.replace(name.split()[-1],\"\")).strip())\n",
    "    return models, types\n",
    "\n",
    "def clean_prices(price):\n",
    "    new=[]\n",
    "    for p in price:\n",
    "        p=p.replace('₹','')\n",
    "        new.append(p.replace(',',''))\n",
    "    return new\n",
    "\n",
    "def split_features(features):\n",
    "    km, owner, fuel= [], [], []\n",
    "    for feature in features:\n",
    "        feat = feature.split(\" \")\n",
    "        km.append(feat[0])\n",
    "        owner.append(feat[1])\n",
    "        fuel.append(feat[2])\n",
    "    \n",
    "    return km, owner, fuel\n",
    "\n",
    "def clean_km(km):\n",
    "    kms=[]\n",
    "    for k in km:\n",
    "        kms.append(k.replace(',',''))\n",
    "    return kms\n",
    "\n",
    "def clean_owner(owner):\n",
    "    own=[]\n",
    "    for o in owner:\n",
    "        own.append(o[2])\n",
    "    return own\n",
    "\n",
    "def clean_fuel(fuel):\n",
    "    fuels=[]\n",
    "    for f in fuel:\n",
    "        fuels.append(f[5])\n",
    "    return fuels\n",
    "\n",
    "def scroll(driver, initialScroll, finalScroll):\n",
    "    initialScroll = 0\n",
    "    finalScroll = 1000\n",
    "\n",
    "    while True:\n",
    "        driver.execute_script(f\"window.scrollTo({initialScroll},{finalScroll})\")\n",
    "\n",
    "        initialScroll = finalScroll\n",
    "        finalScroll += 1000\n",
    "\n",
    "        end = time.time()\n",
    "\n",
    "        if round(end - start) > 20:\n",
    "            break"
   ]
  },
  {
   "cell_type": "code",
   "execution_count": 3,
   "id": "995b1af6",
   "metadata": {},
   "outputs": [],
   "source": [
    "#Initializing the web chrome driver and scrolling to load the page\n",
    "driver = webdriver.Chrome(\"C:/XDrivers/chromedriver.exe\")\n",
    "driver.get(\"https://www.cars24.com/buy-used-cars-bengaluru/\")\n",
    "driver.maximize_window()\n",
    "\n",
    "start = time.time()\n",
    "\n",
    "scroll(driver, 0, 1000)\n",
    "\n",
    "src = driver.page_source\n",
    "driver.close()"
   ]
  },
  {
   "cell_type": "code",
   "execution_count": 4,
   "id": "b5d611a7",
   "metadata": {},
   "outputs": [],
   "source": [
    "#Initializing BeautifulSoup with HTML page\n",
    "soup = BeautifulSoup(src)"
   ]
  },
  {
   "cell_type": "code",
   "execution_count": 5,
   "id": "5cc57e80",
   "metadata": {},
   "outputs": [],
   "source": [
    "#Getting car feature\n",
    "car_tags = soup.find_all('h2', {'class':'_3FpCg'})\n",
    "cars = []\n",
    "for tag in car_tags:\n",
    "    cars.append(tag.text)\n",
    "    \n",
    "year, company, name = clean_cars(cars)\n",
    "name = clean_name(name)"
   ]
  },
  {
   "cell_type": "code",
   "execution_count": 6,
   "id": "ed2e30a0",
   "metadata": {},
   "outputs": [],
   "source": [
    "#Getting price feature\n",
    "price_tags = soup.find_all('div', {'class':'_7udZZ'})\n",
    "prices=[]\n",
    "for tag in price_tags:\n",
    "    prices.append(tag.text)\n",
    "    \n",
    "prices=clean_prices(prices)"
   ]
  },
  {
   "cell_type": "code",
   "execution_count": 7,
   "id": "424b9d7c",
   "metadata": {},
   "outputs": [],
   "source": [
    "#Getting model feature\n",
    "model_tags = soup.find_all('p', {'class':'cvakB'})\n",
    "models = []\n",
    "for tag in model_tags:\n",
    "    models.append(tag.text)\n",
    "    \n",
    "models, types = clean_models(models)"
   ]
  },
  {
   "cell_type": "code",
   "execution_count": 8,
   "id": "89458575",
   "metadata": {},
   "outputs": [],
   "source": [
    "#Getting features of car feature\n",
    "features_tags = soup.find_all('ul', {'class':'bVR0c'})\n",
    "features = []\n",
    "for tag in features_tags:\n",
    "    features.append(tag.text)\n",
    "    \n",
    "km, owner, fuel = split_features(features)\n",
    "km, owner, fuel = clean_km(km), clean_owner(owner), clean_fuel(fuel)"
   ]
  },
  {
   "cell_type": "code",
   "execution_count": 9,
   "id": "98d7cc3e",
   "metadata": {},
   "outputs": [],
   "source": [
    "#Creating a dictionary to arrange the features\n",
    "details = {\n",
    "    \"company\": company,\n",
    "    \"name\": name,\n",
    "    \"models\": models,\n",
    "    \"gear\": types,\n",
    "    \"year\": year,\n",
    "    \"kms\": km,\n",
    "    \"owner\": owner,\n",
    "    \"fuel\": fuel,\n",
    "    \"price\": prices,\n",
    "}"
   ]
  },
  {
   "cell_type": "code",
   "execution_count": 10,
   "id": "e115d3b4",
   "metadata": {},
   "outputs": [],
   "source": [
    "#Creating a Dataframe\n",
    "df= pd.DataFrame(details)"
   ]
  },
  {
   "cell_type": "code",
   "execution_count": 11,
   "id": "d8082e4a",
   "metadata": {},
   "outputs": [
    {
     "data": {
      "text/plain": [
       "(486, 9)"
      ]
     },
     "execution_count": 11,
     "metadata": {},
     "output_type": "execute_result"
    }
   ],
   "source": [
    "#Checking the shape\n",
    "df.shape"
   ]
  },
  {
   "cell_type": "code",
   "execution_count": 12,
   "id": "5b4e752e",
   "metadata": {},
   "outputs": [
    {
     "data": {
      "text/html": [
       "<div>\n",
       "<style scoped>\n",
       "    .dataframe tbody tr th:only-of-type {\n",
       "        vertical-align: middle;\n",
       "    }\n",
       "\n",
       "    .dataframe tbody tr th {\n",
       "        vertical-align: top;\n",
       "    }\n",
       "\n",
       "    .dataframe thead th {\n",
       "        text-align: right;\n",
       "    }\n",
       "</style>\n",
       "<table border=\"1\" class=\"dataframe\">\n",
       "  <thead>\n",
       "    <tr style=\"text-align: right;\">\n",
       "      <th></th>\n",
       "      <th>company</th>\n",
       "      <th>name</th>\n",
       "      <th>models</th>\n",
       "      <th>gear</th>\n",
       "      <th>year</th>\n",
       "      <th>kms</th>\n",
       "      <th>owner</th>\n",
       "      <th>fuel</th>\n",
       "      <th>price</th>\n",
       "    </tr>\n",
       "  </thead>\n",
       "  <tbody>\n",
       "    <tr>\n",
       "      <th>0</th>\n",
       "      <td>Maruti</td>\n",
       "      <td>Baleno</td>\n",
       "      <td>ZETA 1.2 K12</td>\n",
       "      <td>Manual</td>\n",
       "      <td>2016</td>\n",
       "      <td>34417</td>\n",
       "      <td>1</td>\n",
       "      <td>P</td>\n",
       "      <td>640799</td>\n",
       "    </tr>\n",
       "    <tr>\n",
       "      <th>1</th>\n",
       "      <td>Maruti</td>\n",
       "      <td>Baleno</td>\n",
       "      <td>ZETA 1.2 K12</td>\n",
       "      <td>Manual</td>\n",
       "      <td>2016</td>\n",
       "      <td>25849</td>\n",
       "      <td>1</td>\n",
       "      <td>P</td>\n",
       "      <td>640799</td>\n",
       "    </tr>\n",
       "    <tr>\n",
       "      <th>2</th>\n",
       "      <td>Hyundai</td>\n",
       "      <td>i20</td>\n",
       "      <td>SPORTZ 1.2 O</td>\n",
       "      <td>Manual</td>\n",
       "      <td>2010</td>\n",
       "      <td>32395</td>\n",
       "      <td>1</td>\n",
       "      <td>P</td>\n",
       "      <td>405299</td>\n",
       "    </tr>\n",
       "    <tr>\n",
       "      <th>3</th>\n",
       "      <td>Maruti</td>\n",
       "      <td>Swift Dzire</td>\n",
       "      <td>VXI 1.2 BS IV</td>\n",
       "      <td>Manual</td>\n",
       "      <td>2014</td>\n",
       "      <td>49515</td>\n",
       "      <td>1</td>\n",
       "      <td>P</td>\n",
       "      <td>451399</td>\n",
       "    </tr>\n",
       "    <tr>\n",
       "      <th>4</th>\n",
       "      <td>Volkswagen</td>\n",
       "      <td>Polo</td>\n",
       "      <td>COMFORTLINE 1.0 PETROL</td>\n",
       "      <td>Manual</td>\n",
       "      <td>2018</td>\n",
       "      <td>30201</td>\n",
       "      <td>1</td>\n",
       "      <td>P</td>\n",
       "      <td>619099</td>\n",
       "    </tr>\n",
       "  </tbody>\n",
       "</table>\n",
       "</div>"
      ],
      "text/plain": [
       "      company         name                  models    gear  year    kms owner  \\\n",
       "0      Maruti       Baleno            ZETA 1.2 K12  Manual  2016  34417     1   \n",
       "1      Maruti       Baleno            ZETA 1.2 K12  Manual  2016  25849     1   \n",
       "2     Hyundai          i20            SPORTZ 1.2 O  Manual  2010  32395     1   \n",
       "3      Maruti  Swift Dzire           VXI 1.2 BS IV  Manual  2014  49515     1   \n",
       "4  Volkswagen         Polo  COMFORTLINE 1.0 PETROL  Manual  2018  30201     1   \n",
       "\n",
       "  fuel   price  \n",
       "0    P  640799  \n",
       "1    P  640799  \n",
       "2    P  405299  \n",
       "3    P  451399  \n",
       "4    P  619099  "
      ]
     },
     "execution_count": 12,
     "metadata": {},
     "output_type": "execute_result"
    }
   ],
   "source": [
    "#Checking the first 5 rows of data\n",
    "df.head()"
   ]
  },
  {
   "cell_type": "code",
   "execution_count": 13,
   "id": "dad97177",
   "metadata": {},
   "outputs": [
    {
     "name": "stdout",
     "output_type": "stream",
     "text": [
      "<class 'pandas.core.frame.DataFrame'>\n",
      "RangeIndex: 486 entries, 0 to 485\n",
      "Data columns (total 9 columns):\n",
      " #   Column   Non-Null Count  Dtype \n",
      "---  ------   --------------  ----- \n",
      " 0   company  486 non-null    object\n",
      " 1   name     486 non-null    object\n",
      " 2   models   486 non-null    object\n",
      " 3   gear     486 non-null    object\n",
      " 4   year     486 non-null    object\n",
      " 5   kms      486 non-null    object\n",
      " 6   owner    486 non-null    object\n",
      " 7   fuel     486 non-null    object\n",
      " 8   price    486 non-null    object\n",
      "dtypes: object(9)\n",
      "memory usage: 34.3+ KB\n"
     ]
    }
   ],
   "source": [
    "#Checking value types of columns\n",
    "df.info()"
   ]
  },
  {
   "cell_type": "code",
   "execution_count": 14,
   "id": "d4f8a083",
   "metadata": {},
   "outputs": [
    {
     "name": "stdout",
     "output_type": "stream",
     "text": [
      "<class 'pandas.core.frame.DataFrame'>\n",
      "RangeIndex: 486 entries, 0 to 485\n",
      "Data columns (total 9 columns):\n",
      " #   Column   Non-Null Count  Dtype \n",
      "---  ------   --------------  ----- \n",
      " 0   company  486 non-null    object\n",
      " 1   name     486 non-null    object\n",
      " 2   models   486 non-null    object\n",
      " 3   gear     486 non-null    object\n",
      " 4   year     486 non-null    int32 \n",
      " 5   kms      486 non-null    int32 \n",
      " 6   owner    486 non-null    int32 \n",
      " 7   fuel     486 non-null    object\n",
      " 8   price    486 non-null    int32 \n",
      "dtypes: int32(4), object(5)\n",
      "memory usage: 26.7+ KB\n"
     ]
    }
   ],
   "source": [
    "#Changing some features to integer\n",
    "df.year, df.kms, df.owner, df.price = df.year.astype(int), df.kms.astype(int), df.owner.astype(int), df.price.astype(int)\n",
    "df.info()"
   ]
  },
  {
   "cell_type": "code",
   "execution_count": 15,
   "id": "9b17669e",
   "metadata": {},
   "outputs": [
    {
     "data": {
      "text/plain": [
       "company     15\n",
       "name        67\n",
       "models     186\n",
       "gear         9\n",
       "year        14\n",
       "kms        483\n",
       "owner        4\n",
       "fuel         2\n",
       "price      379\n",
       "dtype: int64"
      ]
     },
     "execution_count": 15,
     "metadata": {},
     "output_type": "execute_result"
    }
   ],
   "source": [
    "#Checking the unique values\n",
    "df.apply(lambda x: len(x.unique()))"
   ]
  },
  {
   "cell_type": "code",
   "execution_count": 16,
   "id": "ae140445",
   "metadata": {},
   "outputs": [
    {
     "data": {
      "text/plain": [
       "company    0\n",
       "name       0\n",
       "models     0\n",
       "gear       0\n",
       "year       0\n",
       "kms        0\n",
       "owner      0\n",
       "fuel       0\n",
       "price      0\n",
       "dtype: int64"
      ]
     },
     "execution_count": 16,
     "metadata": {},
     "output_type": "execute_result"
    }
   ],
   "source": [
    "#Checking null values\n",
    "df.isnull().sum()"
   ]
  },
  {
   "cell_type": "code",
   "execution_count": 17,
   "id": "ec553779",
   "metadata": {},
   "outputs": [
    {
     "data": {
      "text/plain": [
       "0"
      ]
     },
     "execution_count": 17,
     "metadata": {},
     "output_type": "execute_result"
    }
   ],
   "source": [
    "#Checking duplicate entries\n",
    "df.duplicated().sum()"
   ]
  },
  {
   "cell_type": "code",
   "execution_count": 18,
   "id": "428f7610",
   "metadata": {},
   "outputs": [
    {
     "data": {
      "text/html": [
       "<div>\n",
       "<style scoped>\n",
       "    .dataframe tbody tr th:only-of-type {\n",
       "        vertical-align: middle;\n",
       "    }\n",
       "\n",
       "    .dataframe tbody tr th {\n",
       "        vertical-align: top;\n",
       "    }\n",
       "\n",
       "    .dataframe thead th {\n",
       "        text-align: right;\n",
       "    }\n",
       "</style>\n",
       "<table border=\"1\" class=\"dataframe\">\n",
       "  <thead>\n",
       "    <tr style=\"text-align: right;\">\n",
       "      <th></th>\n",
       "      <th>company</th>\n",
       "      <th>name</th>\n",
       "      <th>models</th>\n",
       "      <th>gear</th>\n",
       "      <th>year</th>\n",
       "      <th>kms</th>\n",
       "      <th>owner</th>\n",
       "      <th>fuel</th>\n",
       "      <th>price</th>\n",
       "    </tr>\n",
       "  </thead>\n",
       "  <tbody>\n",
       "    <tr>\n",
       "      <th>0</th>\n",
       "      <td>Maruti</td>\n",
       "      <td>Baleno</td>\n",
       "      <td>ZETA 1.2 K12</td>\n",
       "      <td>Manual</td>\n",
       "      <td>2016</td>\n",
       "      <td>34417</td>\n",
       "      <td>1</td>\n",
       "      <td>P</td>\n",
       "      <td>640799</td>\n",
       "    </tr>\n",
       "    <tr>\n",
       "      <th>1</th>\n",
       "      <td>Maruti</td>\n",
       "      <td>Baleno</td>\n",
       "      <td>ZETA 1.2 K12</td>\n",
       "      <td>Manual</td>\n",
       "      <td>2016</td>\n",
       "      <td>25849</td>\n",
       "      <td>1</td>\n",
       "      <td>P</td>\n",
       "      <td>640799</td>\n",
       "    </tr>\n",
       "    <tr>\n",
       "      <th>2</th>\n",
       "      <td>Hyundai</td>\n",
       "      <td>i20</td>\n",
       "      <td>SPORTZ 1.2 O</td>\n",
       "      <td>Manual</td>\n",
       "      <td>2010</td>\n",
       "      <td>32395</td>\n",
       "      <td>1</td>\n",
       "      <td>P</td>\n",
       "      <td>405299</td>\n",
       "    </tr>\n",
       "    <tr>\n",
       "      <th>3</th>\n",
       "      <td>Maruti</td>\n",
       "      <td>Swift Dzire</td>\n",
       "      <td>VXI 1.2 BS IV</td>\n",
       "      <td>Manual</td>\n",
       "      <td>2014</td>\n",
       "      <td>49515</td>\n",
       "      <td>1</td>\n",
       "      <td>P</td>\n",
       "      <td>451399</td>\n",
       "    </tr>\n",
       "    <tr>\n",
       "      <th>4</th>\n",
       "      <td>Volkswagen</td>\n",
       "      <td>Polo</td>\n",
       "      <td>COMFORTLINE 1.0 PETROL</td>\n",
       "      <td>Manual</td>\n",
       "      <td>2018</td>\n",
       "      <td>30201</td>\n",
       "      <td>1</td>\n",
       "      <td>P</td>\n",
       "      <td>619099</td>\n",
       "    </tr>\n",
       "  </tbody>\n",
       "</table>\n",
       "</div>"
      ],
      "text/plain": [
       "      company         name                  models    gear  year    kms  \\\n",
       "0      Maruti       Baleno            ZETA 1.2 K12  Manual  2016  34417   \n",
       "1      Maruti       Baleno            ZETA 1.2 K12  Manual  2016  25849   \n",
       "2     Hyundai          i20            SPORTZ 1.2 O  Manual  2010  32395   \n",
       "3      Maruti  Swift Dzire           VXI 1.2 BS IV  Manual  2014  49515   \n",
       "4  Volkswagen         Polo  COMFORTLINE 1.0 PETROL  Manual  2018  30201   \n",
       "\n",
       "   owner fuel   price  \n",
       "0      1    P  640799  \n",
       "1      1    P  640799  \n",
       "2      1    P  405299  \n",
       "3      1    P  451399  \n",
       "4      1    P  619099  "
      ]
     },
     "execution_count": 18,
     "metadata": {},
     "output_type": "execute_result"
    }
   ],
   "source": [
    "#Checking dataset before moving to EDA\n",
    "df.head()"
   ]
  },
  {
   "cell_type": "markdown",
   "id": "99846742",
   "metadata": {},
   "source": [
    "## Exploratory Data Analysis"
   ]
  },
  {
   "cell_type": "code",
   "execution_count": 19,
   "id": "d8e3699f",
   "metadata": {},
   "outputs": [
    {
     "data": {
      "text/plain": [
       "Text(0.5, 1.0, 'No. of Cars by Company')"
      ]
     },
     "execution_count": 19,
     "metadata": {},
     "output_type": "execute_result"
    },
    {
     "data": {
      "image/png": "[encoded data removed]",
      "text/plain": [
       "<Figure size 1008x432 with 1 Axes>"
      ]
     },
     "metadata": {
      "needs_background": "light"
     },
     "output_type": "display_data"
    }
   ],
   "source": [
    "#Countplot for cars by company\n",
    "plt.figure(figsize=(14,6))\n",
    "sns.countplot(df.company)\n",
    "plt.title('No. of Cars by Company')"
   ]
  },
  {
   "cell_type": "code",
   "execution_count": 20,
   "id": "8a0583ae",
   "metadata": {
    "scrolled": false
   },
   "outputs": [
    {
     "data": {
      "text/plain": [
       "Text(0.5, 1.0, 'No. of Cars by Year')"
      ]
     },
     "execution_count": 20,
     "metadata": {},
     "output_type": "execute_result"
    },
    {
     "data": {
      "image/png": "[encoded data removed]",
      "text/plain": [
       "<Figure size 864x432 with 1 Axes>"
      ]
     },
     "metadata": {
      "needs_background": "light"
     },
     "output_type": "display_data"
    }
   ],
   "source": [
    "#Countplot for cars by years\n",
    "plt.figure(figsize=(12,6))\n",
    "sns.countplot(df.year)\n",
    "plt.title('No. of Cars by Year')"
   ]
  },
  {
   "cell_type": "code",
   "execution_count": 21,
   "id": "e3a8596c",
   "metadata": {},
   "outputs": [
    {
     "data": {
      "text/plain": [
       "<AxesSubplot:xlabel='kms'>"
      ]
     },
     "execution_count": 21,
     "metadata": {},
     "output_type": "execute_result"
    },
    {
     "data": {
      "image/png": "[encoded data removed]",
      "text/plain": [
       "<Figure size 432x288 with 1 Axes>"
      ]
     },
     "metadata": {
      "needs_background": "light"
     },
     "output_type": "display_data"
    }
   ],
   "source": [
    "#Boxplot for cars by kms\n",
    "sns.boxplot(df.kms)"
   ]
  },
  {
   "cell_type": "code",
   "execution_count": 22,
   "id": "79b7a511",
   "metadata": {},
   "outputs": [
    {
     "data": {
      "text/plain": [
       "<AxesSubplot:xlabel='owner', ylabel='count'>"
      ]
     },
     "execution_count": 22,
     "metadata": {},
     "output_type": "execute_result"
    },
    {
     "data": {
      "image/png": "[encoded data removed]",
      "text/plain": [
       "<Figure size 432x288 with 1 Axes>"
      ]
     },
     "metadata": {
      "needs_background": "light"
     },
     "output_type": "display_data"
    }
   ],
   "source": [
    "#Countplot for cars by no. of owners used the cars before\n",
    "sns.countplot(df.owner)"
   ]
  },
  {
   "cell_type": "code",
   "execution_count": 23,
   "id": "929f71db",
   "metadata": {},
   "outputs": [
    {
     "data": {
      "text/plain": [
       "<AxesSubplot:xlabel='fuel', ylabel='count'>"
      ]
     },
     "execution_count": 23,
     "metadata": {},
     "output_type": "execute_result"
    },
    {
     "data": {
      "image/png": "[encoded data removed]",
      "text/plain": [
       "<Figure size 432x288 with 1 Axes>"
      ]
     },
     "metadata": {
      "needs_background": "light"
     },
     "output_type": "display_data"
    }
   ],
   "source": [
    "#Countplot for cars by fuel\n",
    "sns.countplot(df.fuel)"
   ]
  },
  {
   "cell_type": "code",
   "execution_count": 24,
   "id": "cddb6636",
   "metadata": {},
   "outputs": [
    {
     "data": {
      "text/plain": [
       "<AxesSubplot:xlabel='kms', ylabel='price'>"
      ]
     },
     "execution_count": 24,
     "metadata": {},
     "output_type": "execute_result"
    },
    {
     "data": {
      "image/png": "[encoded data removed]",
      "text/plain": [
       "<Figure size 432x288 with 1 Axes>"
      ]
     },
     "metadata": {
      "needs_background": "light"
     },
     "output_type": "display_data"
    }
   ],
   "source": [
    "#Scatterplot for cars kms v/s price with fuel as hue\n",
    "sns.scatterplot( data=df, x=\"kms\", y=\"price\", hue=\"fuel\")"
   ]
  },
  {
   "cell_type": "code",
   "execution_count": 25,
   "id": "215d609f",
   "metadata": {},
   "outputs": [
    {
     "data": {
      "text/plain": [
       "<AxesSubplot:xlabel='year', ylabel='price'>"
      ]
     },
     "execution_count": 25,
     "metadata": {},
     "output_type": "execute_result"
    },
    {
     "data": {
      "image/png": "[encoded data removed]",
      "text/plain": [
       "<Figure size 432x288 with 1 Axes>"
      ]
     },
     "metadata": {
      "needs_background": "light"
     },
     "output_type": "display_data"
    }
   ],
   "source": [
    "#Scatterplot for cars year v/s price with fuel as hue\n",
    "sns.scatterplot( data=df, x=\"year\", y=\"price\", hue=\"fuel\")"
   ]
  },
  {
   "cell_type": "markdown",
   "id": "9b44fc77",
   "metadata": {},
   "source": [
    "## Export Dataset"
   ]
  },
  {
   "cell_type": "code",
   "execution_count": 26,
   "id": "7301ca91",
   "metadata": {},
   "outputs": [],
   "source": [
    "#Exporting as csv\n",
    "df.to_csv(\"cars24.csv\")"
   ]
  }
 ],
 "metadata": {
  "kernelspec": {
   "display_name": "Python 3 (ipykernel)",
   "language": "python",
   "name": "python3"
  },
  "language_info": {
   "codemirror_mode": {
    "name": "ipython",
    "version": 3
   },
   "file_extension": ".py",
   "mimetype": "text/x-python",
   "name": "python",
   "nbconvert_exporter": "python",
   "pygments_lexer": "ipython3",
   "version": "3.10.2"
  }
 },
 "nbformat": 4,
 "nbformat_minor": 5
}
