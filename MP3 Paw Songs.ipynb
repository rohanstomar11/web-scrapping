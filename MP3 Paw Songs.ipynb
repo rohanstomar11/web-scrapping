{
 "cells": [
  {
   "cell_type": "code",
   "execution_count": 1,
   "id": "b04b1e68",
   "metadata": {},
   "outputs": [],
   "source": [
    "from bs4 import BeautifulSoup as bs\n",
    "import requests"
   ]
  },
  {
   "cell_type": "code",
   "execution_count": 2,
   "id": "7bf2d5b7",
   "metadata": {},
   "outputs": [],
   "source": [
    "def getHTMLdocument(url):\n",
    "    response = requests.get(url)\n",
    "    return response.text"
   ]
  },
  {
   "cell_type": "code",
   "execution_count": 3,
   "id": "eccea023",
   "metadata": {},
   "outputs": [],
   "source": [
    "url_to_scrape = \"https://mp3paw.app/\""
   ]
  },
  {
   "cell_type": "code",
   "execution_count": 4,
   "id": "2b703576",
   "metadata": {},
   "outputs": [],
   "source": [
    "html = getHTMLdocument(url_to_scrape)"
   ]
  },
  {
   "cell_type": "code",
   "execution_count": 5,
   "id": "a8cdd595",
   "metadata": {},
   "outputs": [],
   "source": [
    "soup=bs(html)"
   ]
  },
  {
   "cell_type": "code",
   "execution_count": 6,
   "id": "648cb0d4",
   "metadata": {},
   "outputs": [],
   "source": [
    "tags = soup.find_all('div', class_='tc-item')"
   ]
  },
  {
   "cell_type": "code",
   "execution_count": 7,
   "id": "67c71040",
   "metadata": {},
   "outputs": [],
   "source": [
    "songname=[]\n",
    "for tag in tags:\n",
    "    name = tag.a.text\n",
    "    songname.append(name)"
   ]
  },
  {
   "cell_type": "code",
   "execution_count": 8,
   "id": "1d91fe4b",
   "metadata": {},
   "outputs": [],
   "source": [
    "import pandas as pd\n",
    "df = pd.DataFrame(songname)"
   ]
  },
  {
   "cell_type": "code",
   "execution_count": 9,
   "id": "125b4559",
   "metadata": {},
   "outputs": [],
   "source": [
    "df.to_csv('mp3Paw.csv',index=False)"
   ]
  }
 ],
 "metadata": {
  "kernelspec": {
   "display_name": "Python 3 (ipykernel)",
   "language": "python",
   "name": "python3"
  },
  "language_info": {
   "codemirror_mode": {
    "name": "ipython",
    "version": 3
   },
   "file_extension": ".py",
   "mimetype": "text/x-python",
   "name": "python",
   "nbconvert_exporter": "python",
   "pygments_lexer": "ipython3",
   "version": "3.10.2"
  }
 },
 "nbformat": 4,
 "nbformat_minor": 5
}
